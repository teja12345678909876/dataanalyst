{
 "cells": [
  {
   "cell_type": "code",
   "execution_count": 7,
   "id": "82c28f31-9551-41eb-925a-342f7d25a7e4",
   "metadata": {},
   "outputs": [
    {
     "name": "stdout",
     "output_type": "stream",
     "text": [
      "a is equal to b\n"
     ]
    }
   ],
   "source": [
    "a = 10\n",
    "b = 10\n",
    "if (a>b):\n",
    "    print('this is true')\n",
    "elif(a==b):\n",
    "    print('a is equal to b')\n",
    "else:\n",
    "    print('this is false')"
   ]
  },
  {
   "cell_type": "code",
   "execution_count": 8,
   "id": "2d46694e-6659-4b20-8800-f7fe9ab2c863",
   "metadata": {},
   "outputs": [
    {
     "name": "stdin",
     "output_type": "stream",
     "text": [
      "Enter a number:  3\n"
     ]
    },
    {
     "name": "stdout",
     "output_type": "stream",
     "text": [
      "3 is odd.\n"
     ]
    }
   ],
   "source": [
    "a = int(input(\"Enter a number: \"))\n",
    "if (a%2 == 0):\n",
    "  print (str(a)+\" is even.\")\n",
    "else:\n",
    "  print (str(a)+\" is odd.\")\n",
    "\n"
   ]
  },
  {
   "cell_type": "code",
   "execution_count": null,
   "id": "c7a4b890-7f0d-4ba3-bd36-a4719cf87a92",
   "metadata": {},
   "outputs": [],
   "source": [
    "a = int(input(\"Enter a computer science marks: \"))\n",
    "if(a==90) or (a > 90):\n",
    "    print('your grade is a')\n",
    "elif(a==60) or (a>60) and (a<90): \n",
    "    print('grade b')\n",
    "else:\n",
    "    print('grade f')"
   ]
  },
  {
   "cell_type": "code",
   "execution_count": null,
   "id": "bb9e7fe7-fd95-470e-a732-4a441406f496",
   "metadata": {},
   "outputs": [],
   "source": [
    "teja = int(input(\"Enter a computer science marks: \"))\n",
    "try:\n",
    "    print(f'The integer value is: {teja}')\n",
    "except ValueError:\n",
    "    print('The provided input cannot be converted to an integer.')"
   ]
  },
  {
   "cell_type": "code",
   "execution_count": 4,
   "id": "dda27c6d-b989-473d-a672-7a444063fffb",
   "metadata": {},
   "outputs": [
    {
     "name": "stdin",
     "output_type": "stream",
     "text": [
      "Enter computer science marks:  tt\n"
     ]
    },
    {
     "name": "stdout",
     "output_type": "stream",
     "text": [
      "Only integers are allowed\n"
     ]
    }
   ],
   "source": [
    "try:\n",
    "    x = int(input(\"Enter computer science marks: \"))\n",
    "    print(f'The integer value is: {x}')\n",
    "except ValueError:\n",
    "    print ('Only integers are allowed')"
   ]
  },
  {
   "cell_type": "code",
   "execution_count": 3,
   "id": "84d429f5-165d-4136-8302-a86491af2955",
   "metadata": {},
   "outputs": [
    {
     "name": "stdout",
     "output_type": "stream",
     "text": [
      "1\n",
      "2\n",
      "3\n",
      "4\n",
      "5\n",
      "6\n",
      "7\n",
      "8\n",
      "9\n"
     ]
    }
   ],
   "source": [
    "for number in range(1,10):\n",
    " print(number)"
   ]
  },
  {
   "cell_type": "code",
   "execution_count": 5,
   "id": "32faca5a-1e9b-41f6-803a-4aa6b4a9ab10",
   "metadata": {},
   "outputs": [
    {
     "name": "stdout",
     "output_type": "stream",
     "text": [
      "1\n",
      "2\n",
      "3\n",
      "4\n",
      "5\n",
      "6\n",
      "7\n",
      "8\n",
      "9\n"
     ]
    }
   ],
   "source": [
    "for number in range(1,10,1):\n",
    " print(number)\n"
   ]
  },
  {
   "cell_type": "code",
   "execution_count": 6,
   "id": "5ddb6d28-09f4-48d3-961f-8c24c30a8677",
   "metadata": {},
   "outputs": [
    {
     "name": "stdin",
     "output_type": "stream",
     "text": [
      " 1\n"
     ]
    },
    {
     "name": "stdout",
     "output_type": "stream",
     "text": [
      "1\n"
     ]
    }
   ],
   "source": [
    "a=input()\n",
    "for x in a :\n",
    "    print(x)"
   ]
  },
  {
   "cell_type": "code",
   "execution_count": 3,
   "id": "027b303e-f472-475c-8f63-21ed53fd090e",
   "metadata": {},
   "outputs": [
    {
     "name": "stdin",
     "output_type": "stream",
     "text": [
      "Enter a password:  P@ssw0rd123\n"
     ]
    },
    {
     "name": "stdout",
     "output_type": "stream",
     "text": [
      "Password is valid.\n"
     ]
    }
   ],
   "source": [
    "def validate_password(password):\n",
    "    if len(password) < 8:\n",
    "        print(\"Password must be at least 8 characters long.\")\n",
    "    \n",
    "    if not any(char.isupper() for char in password):\n",
    "        print(\"Password must contain at least one uppercase letter.\")\n",
    "    \n",
    "    if not any(char.islower() for char in password):\n",
    "        print(\"Password must contain at least one lowercase letter.\")\n",
    "\n",
    "    if not any(char.isdigit() for char in password):\n",
    "        print(\"Password must contain at least one digit.\")\n",
    "    \n",
    "    special_characters = \"!@#$%^&*(),.?\\\":{}|<>\"\n",
    "    if not any(char in special_characters for char in password):\n",
    "        print(\"Password must contain at least one special character.\")\n",
    "    \n",
    "    print(\"Password is valid.\")\n",
    "\n",
    "password = input(\"Enter a password: \")\n",
    "validate_password(password)"
   ]
  },
  {
   "cell_type": "code",
   "execution_count": 11,
   "id": "b5c142d2-a2b7-49f1-a747-e61282c2ed75",
   "metadata": {},
   "outputs": [
    {
     "name": "stdout",
     "output_type": "stream",
     "text": [
      "[3, 5, 'ASA', 'Hello', 5.2]\n",
      "5\n",
      "[3, 5, 'ASA', 'Hello', 5.2]\n",
      "[3, 5, 'ASA', 5.2]\n",
      "[3, 5, 'ASA', 5.2, 'ASA Solution']\n",
      "Index 0: 3 - Hii \n",
      "Index 1: 5\n",
      "Index 2: ASA - Hii \n",
      "Index 3: 5.2\n",
      "Index 4: ASA Solution - Hii \n"
     ]
    }
   ],
   "source": [
    "list = [3, 5, \"ASA\",\"Hello\",5.2]\n",
    "print(list)\n",
    "print(len(list))\n",
    "print(list)\n",
    "list.remove(list[3])\n",
    "print(list)\n",
    "list.append(\"ASA Solution\")\n",
    "print(list)\n",
    "for i in range(len(list)):\n",
    "    if i % 2 == 0:\n",
    "        print(f\"Index {i}: {list[i]} - Hii \")\n",
    "    else:\n",
    "        print(f\"Index {i}: {list[i]}\")"
   ]
  },
  {
   "cell_type": "code",
   "execution_count": null,
   "id": "cbb38038-1434-44c8-ae02-65e8d7df0093",
   "metadata": {},
   "outputs": [],
   "source": []
  },
  {
   "cell_type": "code",
   "execution_count": 1,
   "id": "a83c7b7a-b077-4a47-9933-d7d81c1e98d5",
   "metadata": {},
   "outputs": [
    {
     "name": "stdout",
     "output_type": "stream",
     "text": [
      "List: [3, 5, 'ASA', 'Hello', 5.2]\n",
      "Length of the list: 5\n",
      "List after removing index 3: [3, 5, 'ASA', 5.2]\n",
      "List after appending 'ASA Solution': [3, 5, 'ASA', 5.2, 'ASA Solution']\n",
      "Index 0: 3 - Hii \n",
      "Index 1: 5\n",
      "Index 2: ASA - Hii \n",
      "Index 3: 5.2\n",
      "Index 4: ASA Solution - Hii \n"
     ]
    }
   ],
   "source": [
    "my_list = [3, 5, \"ASA\", \"Hello\", 5.2]\n",
    "print(\"List:\", my_list)\n",
    "length_of_list = len(my_list)\n",
    "print(\"Length of the list:\", length_of_list)\n",
    "my_list.pop(3)\n",
    "print(\"List after removing index 3:\", my_list)\n",
    "my_list.append(\"ASA Solution\")\n",
    "print(\"List after appending 'ASA Solution':\", my_list)\n",
    "for i in range(len(my_list)):\n",
    "    if i % 2 == 0:\n",
    "        print(f\"Index {i}: {my_list[i]} - Hii \")\n",
    "    else:\n",
    "        print(f\"Index {i}: {my_list[i]}\")\n"
   ]
  },
  {
   "cell_type": "code",
   "execution_count": 1,
   "id": "f833d123-6790-44a6-98c1-f175da64ae47",
   "metadata": {},
   "outputs": [
    {
     "name": "stdout",
     "output_type": "stream",
     "text": [
      "List: [3, 5, 'ASA', 'Hello', 5.2]\n",
      "Length of the list: 5\n",
      "List after removing index 3: [3, 5, 'ASA', 5.2]\n",
      "List after appending 'ASA Solution': [3, 5, 'ASA', 5.2, 'ASA Solution']\n",
      "Index 0: 3 - Hii \n",
      "Index 1: 5\n",
      "Index 2: ASA - Hii \n",
      "Index 3: 5.2\n",
      "Index 4: ASA Solution - Hii \n"
     ]
    }
   ],
   "source": [
    "my_list = [3, 5, \"ASA\", \"Hello\", 5.2]\n",
    "print(\"List:\", my_list)\n",
    "length_of_list = len(my_list)\n",
    "print(\"Length of the list:\", length_of_list)\n",
    "my_list.pop(3)\n",
    "print(\"List after removing index 3:\", my_list)\n",
    "my_list.append(\"ASA Solution\")\n",
    "print(\"List after appending 'ASA Solution':\", my_list)\n",
    "for i in range(len(my_list)):\n",
    "    if i % 2 == 0:\n",
    "        print(f\"Index {i}: {my_list[i]} - Hii \")\n",
    "    else:\n",
    "        print(f\"Index {i}: {my_list[i]}\")\n"
   ]
  },
  {
   "cell_type": "code",
   "execution_count": 10,
   "id": "8013cf61-1fd4-4539-a8d0-9f2e2cfe7db0",
   "metadata": {},
   "outputs": [
    {
     "name": "stdin",
     "output_type": "stream",
     "text": [
      "enter a number: 3\n"
     ]
    },
    {
     "name": "stdout",
     "output_type": "stream",
     "text": [
      "1\n",
      "2\n"
     ]
    }
   ],
   "source": [
    "n=int(input(\"enter a number:\"))\n",
    "for num in range (1,n):\n",
    "    if num%3==0 and num%5==0:\n",
    "        print(\"FIZZ AND BUZZ\")\n",
    "    elif num%3==0:\n",
    "        print(\"fizz\")\n",
    "    elif num%5==0:\n",
    "        print(\"buzz\")\n",
    "    else:\n",
    "        print(num)"
   ]
  },
  {
   "cell_type": "code",
   "execution_count": 9,
   "id": "e0fac3b4-149d-4ef8-a543-bf7f6987a0be",
   "metadata": {},
   "outputs": [
    {
     "name": "stdin",
     "output_type": "stream",
     "text": [
      "enter the value : 1\n",
      "enter the limit value : 9\n"
     ]
    },
    {
     "name": "stdout",
     "output_type": "stream",
     "text": [
      "1 X 1 = 1\n",
      "1 X 2 = 2\n",
      "1 X 3 = 3\n",
      "1 X 4 = 4\n",
      "1 X 5 = 5\n",
      "1 X 6 = 6\n",
      "1 X 7 = 7\n",
      "1 X 8 = 8\n",
      "1 X 9 = 9\n"
     ]
    }
   ],
   "source": [
    "number = int(input(\"enter the value :\"))\n",
    "limit = int(input(\"enter the limit value :\"))\n",
    "for i in range(1,limit+1):\n",
    "  print(f\"{number} X {i} = {number*i}\")\n",
    "   "
   ]
  },
  {
   "cell_type": "code",
   "execution_count": 7,
   "id": "2c19d4ca-87bb-4401-9cde-acf505b64e6e",
   "metadata": {},
   "outputs": [
    {
     "name": "stdout",
     "output_type": "stream",
     "text": [
      "['teja', 'vishnu', 'giri', 'Rohith']\n"
     ]
    }
   ],
   "source": [
    "list = [\"teja\",\"vishnu\",\"giri\"]\n",
    "list.append('Rohith')\n",
    "print(list)"
   ]
  },
  {
   "cell_type": "code",
   "execution_count": 9,
   "id": "d540fbea-1aeb-4227-abb2-009a46a2dbc9",
   "metadata": {},
   "outputs": [
    {
     "name": "stdout",
     "output_type": "stream",
     "text": [
      "['teja', 'vishnu']\n"
     ]
    }
   ],
   "source": [
    "list = [\"teja\",\"vishnu\",\"giri\"]\n",
    "list.remove('giri')\n",
    "print(list)"
   ]
  },
  {
   "cell_type": "code",
   "execution_count": 5,
   "id": "bd5d84bc-900f-4ea9-9c6b-4322c6339373",
   "metadata": {},
   "outputs": [
    {
     "name": "stdout",
     "output_type": "stream",
     "text": [
      "[9, 8, 7, 6, 5, 4, 3, 2, 1]\n"
     ]
    }
   ],
   "source": [
    "list = [1,2,3,4,5,6,7,8,9]\n",
    "list.reverse()\n",
    "print(list)"
   ]
  },
  {
   "cell_type": "code",
   "execution_count": 7,
   "id": "7effc29a-6425-4ad6-92fc-a5dea107f117",
   "metadata": {},
   "outputs": [
    {
     "name": "stdout",
     "output_type": "stream",
     "text": [
      "534101\n"
     ]
    }
   ],
   "source": [
    "a = {\"name\":5,\"hi\":9,\"say\":534101,\"hey\":35}\n",
    "print(a[\"say\"])"
   ]
  },
  {
   "cell_type": "code",
   "execution_count": 13,
   "id": "eac0d922-9da1-4f4f-983a-d6d1e0b2cd46",
   "metadata": {},
   "outputs": [
    {
     "name": "stdout",
     "output_type": "stream",
     "text": [
      "9\n",
      "hey\n",
      "say\n",
      "4\n"
     ]
    }
   ],
   "source": [
    "a = {\"name\":5,\"hi\":9,\"say\":534101,\"hey\":35}\n",
    "print(a[\"hi\"])\n",
    "print(min(a))\n",
    "print(max(a))\n",
    "print(len(a))"
   ]
  },
  {
   "cell_type": "code",
   "execution_count": 3,
   "id": "e69af0d1-6fc9-4104-a0da-d8690a6c3a2c",
   "metadata": {},
   "outputs": [
    {
     "name": "stdout",
     "output_type": "stream",
     "text": [
      "hi\n",
      "giri prasad ok\n"
     ]
    }
   ],
   "source": [
    "def ROHITH():\n",
    "    print('hi')\n",
    "    print('giri prasad ok')\n",
    "ROHITH()\n",
    "def giri():\n",
    "     return 'teja'"
   ]
  },
  {
   "cell_type": "code",
   "execution_count": 7,
   "id": "819133e4-efa0-4964-9fc6-8e62bdbe3c91",
   "metadata": {},
   "outputs": [
    {
     "name": "stdin",
     "output_type": "stream",
     "text": [
      "enter the value : 4\n",
      "enter the limit value : 6\n"
     ]
    },
    {
     "name": "stdout",
     "output_type": "stream",
     "text": [
      "4 X 1 = 4\n",
      "4 X 2 = 8\n",
      "4 X 3 = 12\n",
      "4 X 4 = 16\n",
      "4 X 5 = 20\n",
      "4 X 6 = 24\n"
     ]
    }
   ],
   "source": [
    "number = int(input(\"enter the value :\"))\n",
    "limit = int(input(\"enter the limit value :\"))\n",
    "for i in range(1,limit+1):\n",
    "  print(f\"{number} X {i} = {number*i}\")"
   ]
  },
  {
   "cell_type": "code",
   "execution_count": 6,
   "id": "2468c5e0-593b-4a72-a081-3552fea4c265",
   "metadata": {},
   "outputs": [
    {
     "name": "stdout",
     "output_type": "stream",
     "text": [
      "List: [3, 5, 'ASA', 'Hello', 5.2]\n",
      "Length of the list: 5\n",
      "List after removing index 3: [3, 5, 'ASA', 5.2]\n",
      "List after appending 'ASA Solution': [3, 5, 'ASA', 5.2, 'ASA Solution']\n",
      "Index 0: 3 - Hii \n",
      "Index 1: 5\n",
      "Index 2: ASA - Hii \n",
      "Index 3: 5.2\n",
      "Index 4: ASA Solution - Hii \n"
     ]
    }
   ],
   "source": [
    "my_list = [3, 5, \"ASA\", \"Hello\", 5.2]\n",
    "print(\"List:\", my_list)\n",
    "length_of_list = len(my_list)\n",
    "print(\"Length of the list:\", length_of_list)\n",
    "my_list.pop(3)\n",
    "print(\"List after removing index 3:\", my_list)\n",
    "my_list.append(\"ASA Solution\")\n",
    "print(\"List after appending 'ASA Solution':\", my_list)\n",
    "for i in range(len(my_list)):\n",
    "    if i % 2 == 0:\n",
    "        print(f\"Index {i}: {my_list[i]} - Hii \")\n",
    "    else:\n",
    "        print(f\"Index {i}: {my_list[i]}\")"
   ]
  },
  {
   "cell_type": "code",
   "execution_count": null,
   "id": "af63a7ab-d81e-4205-9172-8e2e42a802d1",
   "metadata": {},
   "outputs": [],
   "source": []
  }
 ],
 "metadata": {
  "kernelspec": {
   "display_name": "Python 3 (ipykernel)",
   "language": "python",
   "name": "python3"
  },
  "language_info": {
   "codemirror_mode": {
    "name": "ipython",
    "version": 3
   },
   "file_extension": ".py",
   "mimetype": "text/x-python",
   "name": "python",
   "nbconvert_exporter": "python",
   "pygments_lexer": "ipython3",
   "version": "3.12.4"
  }
 },
 "nbformat": 4,
 "nbformat_minor": 5
}
